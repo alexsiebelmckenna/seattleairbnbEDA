{
 "cells": [
  {
   "cell_type": "markdown",
   "metadata": {},
   "source": [
    "**Who owns Seattle Airbnbs?**"
   ]
  },
  {
   "cell_type": "code",
   "execution_count": 1,
   "metadata": {},
   "outputs": [],
   "source": [
    "import pandas as pd\n",
    "import numpy as np\n",
    "import matplotlib.pyplot as plt\n",
    "%matplotlib inline"
   ]
  },
  {
   "cell_type": "code",
   "execution_count": 2,
   "metadata": {},
   "outputs": [],
   "source": [
    "seattle_reviews = pd.read_csv('seattle_reviews.csv')\n",
    "seattle_listings = pd.read_csv('seattle_listings.csv')\n",
    "seattle_calendar = pd.read_csv('seattle_calendar.csv')"
   ]
  },
  {
   "cell_type": "code",
   "execution_count": 3,
   "metadata": {},
   "outputs": [
    {
     "name": "stdout",
     "output_type": "stream",
     "text": [
      "Index(['id', 'listing_url', 'scrape_id', 'last_scraped', 'name', 'summary',\n",
      "       'space', 'description', 'experiences_offered', 'neighborhood_overview',\n",
      "       'notes', 'transit', 'thumbnail_url', 'medium_url', 'picture_url',\n",
      "       'xl_picture_url', 'host_id', 'host_url', 'host_name', 'host_since',\n",
      "       'host_location', 'host_about', 'host_response_time',\n",
      "       'host_response_rate', 'host_acceptance_rate', 'host_is_superhost',\n",
      "       'host_thumbnail_url', 'host_picture_url', 'host_neighbourhood',\n",
      "       'host_listings_count', 'host_total_listings_count',\n",
      "       'host_verifications', 'host_has_profile_pic', 'host_identity_verified',\n",
      "       'street', 'neighbourhood', 'neighbourhood_cleansed',\n",
      "       'neighbourhood_group_cleansed', 'city', 'state', 'zipcode', 'market',\n",
      "       'smart_location', 'country_code', 'country', 'latitude', 'longitude',\n",
      "       'is_location_exact', 'property_type', 'room_type', 'accommodates',\n",
      "       'bathrooms', 'bedrooms', 'beds', 'bed_type', 'amenities', 'square_feet',\n",
      "       'price', 'weekly_price', 'monthly_price', 'security_deposit',\n",
      "       'cleaning_fee', 'guests_included', 'extra_people', 'minimum_nights',\n",
      "       'maximum_nights', 'calendar_updated', 'has_availability',\n",
      "       'availability_30', 'availability_60', 'availability_90',\n",
      "       'availability_365', 'calendar_last_scraped', 'number_of_reviews',\n",
      "       'first_review', 'last_review', 'review_scores_rating',\n",
      "       'review_scores_accuracy', 'review_scores_cleanliness',\n",
      "       'review_scores_checkin', 'review_scores_communication',\n",
      "       'review_scores_location', 'review_scores_value', 'requires_license',\n",
      "       'license', 'jurisdiction_names', 'instant_bookable',\n",
      "       'cancellation_policy', 'require_guest_profile_picture',\n",
      "       'require_guest_phone_verification', 'calculated_host_listings_count',\n",
      "       'reviews_per_month'],\n",
      "      dtype='object')\n"
     ]
    }
   ],
   "source": [
    "print(seattle_listings.columns)"
   ]
  },
  {
   "cell_type": "code",
   "execution_count": 4,
   "metadata": {},
   "outputs": [
    {
     "data": {
      "text/plain": [
       "True"
      ]
     },
     "execution_count": 4,
     "metadata": {},
     "output_type": "execute_result"
    }
   ],
   "source": [
    "# Make sure that values in 'id' column are unique... (i.e. no duplicates)\n",
    "\n",
    "len(seattle_listings['id'].unique()) == seattle_listings.shape[0]\n"
   ]
  },
  {
   "cell_type": "code",
   "execution_count": 5,
   "metadata": {},
   "outputs": [],
   "source": [
    "# Get hosts with more than 10 properties and what those properties are\n",
    "\n",
    "investor_count = (seattle_listings[['host_id','host_name','host_url','host_listings_count']][seattle_listings['host_listings_count']>10]\n",
    "                          .drop_duplicates('host_id').sort_values(by='host_listings_count', ascending=False))"
   ]
  },
  {
   "cell_type": "code",
   "execution_count": 6,
   "metadata": {},
   "outputs": [],
   "source": [
    "# Rename the hosts using host_id (taken manually from host_url column)\n",
    "\n",
    "investor_dictionary = {8534462:'Barsala',\n",
    "                      4962900:'Stay Alfred',\n",
    "                      1243056:'Grokhome',\n",
    "                      74305:'Seattle Oasis',\n",
    "                      658155:'Kenny Properties LLC',\n",
    "                      31148752:'TurnKey',\n",
    "                      66145:'The Dexter Experience',\n",
    "                      30283594:'Global Luxury Suites',\n",
    "                      1478274:'LiveLikeItsYours'}\n",
    "\n",
    "# Change the names of hosts with IDs in the investor_dictionary, leave untouched those that aren't \n",
    "seattle_listings['host_name'] = seattle_listings['host_id'].map(investor_dictionary).fillna(seattle_listings['host_name'])"
   ]
  },
  {
   "cell_type": "code",
   "execution_count": 7,
   "metadata": {},
   "outputs": [
    {
     "data": {
      "image/png": "[encoded data removed]",
      "text/plain": [
       "<Figure size 432x288 with 1 Axes>"
      ]
     },
     "metadata": {
      "needs_background": "light"
     },
     "output_type": "display_data"
    }
   ],
   "source": [
    "# Plot hosts by host_listing_count\n",
    "\n",
    "investor_count[['host_name', 'host_listings_count']].plot(kind='bar', legend=None);\n",
    "x = investor_count['host_name']\n",
    "x_pos = [i for i, _ in enumerate(x)]\n",
    "plt.xticks(x_pos, x);\n",
    "plt.xlabel('');\n",
    "plt.ylabel('Number of listings');\n",
    "plt.title('Hosts by listing count');"
   ]
  },
  {
   "cell_type": "code",
   "execution_count": 8,
   "metadata": {},
   "outputs": [
    {
     "name": "stdout",
     "output_type": "stream",
     "text": [
      "There are 352 investor-hosted listings in seattle_calendar.\n",
      "     host_id              host_name   r-index\n",
      "0    1623580          Mack & Sophia  1.000000\n",
      "1     862329          Prez & Cherie  1.000000\n",
      "2    1243056               Grokhome  1.000000\n",
      "3     430709     Sea To Sky Rentals  1.000000\n",
      "4    3074414                Melissa  1.000000\n",
      "5   26967583                  Dario  1.000000\n",
      "6    7354306                Michael  1.000000\n",
      "7    2911360                    Ren  1.000000\n",
      "8      74305          Seattle Oasis  0.970588\n",
      "9    8534462                Barsala  0.958333\n",
      "10  42537846                   Eric  0.941176\n",
      "11    658155   Kenny Properties LLC  0.923077\n",
      "12   4962900            Stay Alfred  0.230769\n",
      "13  24689607                   Garo  0.210526\n",
      "14     66145  The Dexter Experience  0.200000\n",
      "15   1478274       LiveLikeItsYours  0.055556\n",
      "16  31148752                TurnKey  0.028249\n",
      "17    661691                   Katy  0.024540\n",
      "18    103427                Magalie  0.023810\n",
      "19  30283594   Global Luxury Suites  0.003984\n"
     ]
    }
   ],
   "source": [
    "# Get investor listing_ids\n",
    "\n",
    "investor_df = (seattle_listings[['host_id','host_name','host_url','id','host_listings_count']][seattle_listings['host_listings_count']>10]\n",
    "                       .rename({'id':'listing_id'}, axis=1).sort_values('host_id'))\n",
    "\n",
    "investor_calendar = pd.merge(seattle_calendar[seattle_calendar['listing_id'].isin(investor_df['listing_id'])],\n",
    "                              investor_df, how='left', left_on='listing_id', right_on='listing_id')\n",
    "\n",
    "# How many days of data are available for each listing?\n",
    "\n",
    "# How many investor listings are reflected in seattle_calendar? Can we confirm that there is a year's worth of data for all of them?\n",
    "\n",
    "print('There are {} investor-hosted listings in seattle_calendar.'.format(len(investor_calendar['listing_id'].unique())))\n",
    "\n",
    "try:\n",
    "    assert(investor_calendar[['host_name','listing_id', 'date', 'available']].groupby('listing_id').count()['date'].unique()[0]==365)\n",
    "except:\n",
    "    print('Unbalanced data! Not all listings have 365 rows of availability... available')\n",
    "\n",
    "investor_calendar_count = (pd.DataFrame(investor_calendar['host_name'].value_counts()/365).reset_index()\n",
    "                           .rename({'index':'host_name', 'host_name':'count'},axis=1))\n",
    "\n",
    "# Merge dataframes to calculate R-index\n",
    "\n",
    "merged_investor_calendar_count = pd.merge(investor_calendar_count, investor_df[['host_id','host_name','host_listings_count']], on='host_name', how='inner').drop_duplicates('host_name')\n",
    "merged_investor_calendar_count['r-index'] = merged_investor_calendar_count['count']/merged_investor_calendar_count['host_listings_count']\n",
    "\n",
    "r_index_df = (merged_investor_calendar_count[['host_id', 'host_name', 'r-index']].sort_values(by='r-index', ascending=False).reset_index(drop=True))\n",
    "\n",
    "print(r_index_df)"
   ]
  },
  {
   "cell_type": "code",
   "execution_count": 9,
   "metadata": {},
   "outputs": [
    {
     "data": {
      "image/png": "[encoded data removed]",
      "text/plain": [
       "<Figure size 432x288 with 1 Axes>"
      ]
     },
     "metadata": {
      "needs_background": "light"
     },
     "output_type": "display_data"
    }
   ],
   "source": [
    "x = r_index_df['host_name']\n",
    "x_pos = [i for i, _ in enumerate(x)]\n",
    "r_index_df[['host_name', 'r-index']].plot(kind='bar', legend=None);\n",
    "plt.xticks(x_pos, x);\n",
    "plt.xlabel('');\n",
    "plt.ylabel('R-index');\n",
    "plt.title('R-index values by host');"
   ]
  },
  {
   "cell_type": "code",
   "execution_count": 10,
   "metadata": {},
   "outputs": [],
   "source": [
    "# List object containing the listings of the new investor list, with r-index values greater than 0.90\n",
    "new_investor_list = investor_df[investor_df['host_id'].isin(r_index_df['host_id'][r_index_df['r-index']>0.90])]\n",
    "\n",
    "# Get listings and calendar datasets for this new set of investors\n",
    "investor_calendar = pd.merge(seattle_calendar[seattle_calendar['listing_id'].isin(new_investor_list['listing_id'])],\n",
    "                              investor_df, how='left', left_on='listing_id', right_on='listing_id')\n",
    "\n",
    "#DataFrame containing the full characteristics\n",
    "investor_listings = seattle_listings[seattle_listings['host_id'].isin(new_investor_list['host_id'])]"
   ]
  },
  {
   "cell_type": "code",
   "execution_count": 11,
   "metadata": {},
   "outputs": [
    {
     "data": {
      "image/png": "[encoded data removed]",
      "text/plain": [
       "<Figure size 432x288 with 1 Axes>"
      ]
     },
     "metadata": {
      "needs_background": "light"
     },
     "output_type": "display_data"
    }
   ],
   "source": [
    "# Plot new host set by host_listing_count\n",
    "\n",
    "(new_investor_list[['host_name', 'host_listings_count']]).drop_duplicates('host_name').sort_values(by='host_listings_count', ascending=False).plot(kind='bar', legend=None);\n",
    "x = new_investor_list['host_name'].unique()\n",
    "x_pos = [i for i, _ in enumerate(x)]\n",
    "plt.xticks(x_pos, x);\n",
    "plt.xlabel('');\n",
    "plt.ylabel('Number of listings');\n",
    "plt.title('Hosts by listing count (R-index>0.9)');"
   ]
  },
  {
   "cell_type": "markdown",
   "metadata": {},
   "source": [
    "<h1>Occupancy</h1>"
   ]
  },
  {
   "cell_type": "markdown",
   "metadata": {},
   "source": [
    "**Calculating occupancy rates using the availability calendar**"
   ]
  },
  {
   "cell_type": "code",
   "execution_count": 12,
   "metadata": {},
   "outputs": [
    {
     "data": {
      "text/html": [
       "<div>\n",
       "<style scoped>\n",
       "    .dataframe tbody tr th:only-of-type {\n",
       "        vertical-align: middle;\n",
       "    }\n",
       "\n",
       "    .dataframe tbody tr th {\n",
       "        vertical-align: top;\n",
       "    }\n",
       "\n",
       "    .dataframe thead th {\n",
       "        text-align: right;\n",
       "    }\n",
       "</style>\n",
       "<table border=\"1\" class=\"dataframe\">\n",
       "  <thead>\n",
       "    <tr style=\"text-align: right;\">\n",
       "      <th></th>\n",
       "      <th>availability_30</th>\n",
       "    </tr>\n",
       "    <tr>\n",
       "      <th>host_id</th>\n",
       "      <th></th>\n",
       "    </tr>\n",
       "  </thead>\n",
       "  <tbody>\n",
       "    <tr>\n",
       "      <th>862329</th>\n",
       "      <td>30.000000</td>\n",
       "    </tr>\n",
       "    <tr>\n",
       "      <th>1243056</th>\n",
       "      <td>26.621622</td>\n",
       "    </tr>\n",
       "    <tr>\n",
       "      <th>3074414</th>\n",
       "      <td>25.852941</td>\n",
       "    </tr>\n",
       "    <tr>\n",
       "      <th>430709</th>\n",
       "      <td>22.055556</td>\n",
       "    </tr>\n",
       "    <tr>\n",
       "      <th>74305</th>\n",
       "      <td>21.454545</td>\n",
       "    </tr>\n",
       "    <tr>\n",
       "      <th>8534462</th>\n",
       "      <td>20.673913</td>\n",
       "    </tr>\n",
       "    <tr>\n",
       "      <th>658155</th>\n",
       "      <td>20.166667</td>\n",
       "    </tr>\n",
       "    <tr>\n",
       "      <th>2911360</th>\n",
       "      <td>19.090909</td>\n",
       "    </tr>\n",
       "    <tr>\n",
       "      <th>26967583</th>\n",
       "      <td>18.761905</td>\n",
       "    </tr>\n",
       "    <tr>\n",
       "      <th>7354306</th>\n",
       "      <td>16.555556</td>\n",
       "    </tr>\n",
       "    <tr>\n",
       "      <th>1623580</th>\n",
       "      <td>14.583333</td>\n",
       "    </tr>\n",
       "    <tr>\n",
       "      <th>42537846</th>\n",
       "      <td>8.250000</td>\n",
       "    </tr>\n",
       "  </tbody>\n",
       "</table>\n",
       "</div>"
      ],
      "text/plain": [
       "          availability_30\n",
       "host_id                  \n",
       "862329          30.000000\n",
       "1243056         26.621622\n",
       "3074414         25.852941\n",
       "430709          22.055556\n",
       "74305           21.454545\n",
       "8534462         20.673913\n",
       "658155          20.166667\n",
       "2911360         19.090909\n",
       "26967583        18.761905\n",
       "7354306         16.555556\n",
       "1623580         14.583333\n",
       "42537846         8.250000"
      ]
     },
     "execution_count": 12,
     "metadata": {},
     "output_type": "execute_result"
    }
   ],
   "source": [
    "# The availability_30 feature gives us a snapshot into a unit's availability but if we really want to dig deep \n",
    "# we should look at the seattle_calendar (investor_calendar) dataset\n",
    "\n",
    "(seattle_listings[['host_id', 'availability_30']][seattle_listings['host_id'].isin(new_investor_list['host_id'])].groupby('host_id').mean()\\\n",
    " .sort_values(by='availability_30', ascending=False))"
   ]
  },
  {
   "cell_type": "code",
   "execution_count": 13,
   "metadata": {},
   "outputs": [],
   "source": [
    "# First, create separate DataFrame to collect these values\n",
    "listings_per_host = pd.DataFrame(investor_calendar['host_name'].unique(), columns=['host_name'])\n",
    "listings_per_host['calculated_host_listings'] = listings_per_host['host_name'].apply(lambda x: investor_calendar[investor_calendar['host_name'] == x].shape[0]/365)\n",
    "\n",
    "# Merge with investor calendar\n",
    "investor_calendar = pd.merge(investor_calendar, listings_per_host, on='host_name')\n",
    "\n"
   ]
  },
  {
   "cell_type": "code",
   "execution_count": 14,
   "metadata": {},
   "outputs": [
    {
     "name": "stdout",
     "output_type": "stream",
     "text": [
      "There are 39055 (out of 104755) rows where calculated_host_listings is not equal to host_listings_count\n"
     ]
    }
   ],
   "source": [
    "# Need the number of listings each host has in investor_calendar (which may != host_listings_count)\n",
    "\n",
    "num_not_eq = sum(investor_calendar['host_listings_count'] != investor_calendar['calculated_host_listings'])\n",
    "print(\"There are {} (out of {}) rows where calculated_host_listings is not equal to host_listings_count\".format(num_not_eq, investor_calendar.shape[0]))\n"
   ]
  },
  {
   "cell_type": "markdown",
   "metadata": {},
   "source": [
    "**Creating investor availability dataset by host**"
   ]
  },
  {
   "cell_type": "code",
   "execution_count": 16,
   "metadata": {},
   "outputs": [
    {
     "data": {
      "text/plain": [
       "0.22888380923844956"
      ]
     },
     "execution_count": 16,
     "metadata": {},
     "output_type": "execute_result"
    }
   ],
   "source": [
    "# Create DataFrame to show each listing by date and whether it was available or not\n",
    "# Rewriting code\n",
    "\n",
    "investor_availability = (investor_calendar.groupby(['host_name', 'available'], as_index=False).count()[['host_name','available','listing_id']]\n",
    "                            .rename({'listing_id':'count'}, axis=1))\n",
    "\n",
    "# Available = 'f' means that the listing is occupied\n",
    "#investor_availability_ts =  investor_availability_ts[investor_availability_ts['available']=='f']\n",
    "\n",
    "# Divide # available per day by total # of unique listings (287) to produce the daily occupancy rate\n",
    "#investor_availability_ts['occupancy_rate'] = investor_availability_ts['count']/287\n",
    "\n",
    "# Investor occupancy rate by host\n",
    "investor_or_host = investor_availability[investor_availability['available']=='f']\n",
    "\n",
    "listings_per_host['calculated_host_listings'] = listings_per_host['calculated_host_listings']*365\n",
    "\n",
    "investor_or_host = pd.merge(investor_or_host, listings_per_host, on='host_name')\n",
    "\n",
    "investor_or_host['occupancy_rate'] = investor_or_host['count']/investor_or_host['calculated_host_listings']\n",
    "\n",
    "investor_availability_mean_val = investor_or_host['occupancy_rate'].mean()\n",
    "\n",
    "# Note: occupancy rates turn out to be different depending on how you calculate them. "
   ]
  },
  {
   "cell_type": "code",
   "execution_count": 17,
   "metadata": {},
   "outputs": [
    {
     "name": "stdout",
     "output_type": "stream",
     "text": [
      "The mean occupancy rate in 2016 for investor-hosted listings was 0.23% (when calculated by host)\n",
      "The mean occupancy rate in 2016 for non-investor-hosted listings was 0.34% (when calculated as a time series)\n"
     ]
    }
   ],
   "source": [
    "non_investor_calendar = seattle_calendar[~(seattle_calendar['listing_id'].isin(investor_listings['id']))]\n",
    "\n",
    "# Need total number of non-investor listings:\n",
    "# We don't care so much about who owns them so we'll calculate mean occupancy rate by date instead\n",
    "\n",
    "# Creating non-investor listing time series\n",
    "\n",
    "num_l = len(non_investor_calendar['listing_id'].unique())\n",
    "\n",
    "non_investor_availability = (non_investor_calendar.groupby(['date', 'available'], as_index=False).count()[['date', 'available', 'listing_id']])\n",
    "non_investor_availability = non_investor_availability[non_investor_availability['available']=='f']\n",
    "\n",
    "non_investor_availability['occupancy_rate'] = non_investor_availability['listing_id']/num_l\n",
    "\n",
    "non_investor_availability_mean_val = non_investor_availability['occupancy_rate'].mean()\n",
    "\n",
    "print('The mean occupancy rate in 2016 for investor-hosted listings was {:.2f}% (when calculated by host)'.format(investor_availability_mean_val))\n",
    "print('The mean occupancy rate in 2016 for non-investor-hosted listings was {:.2f}% (when calculated as a time series)'.format(non_investor_availability_mean_val))"
   ]
  },
  {
   "cell_type": "markdown",
   "metadata": {},
   "source": [
    "**Creating investor availability dataset by date**"
   ]
  },
  {
   "cell_type": "code",
   "execution_count": 18,
   "metadata": {},
   "outputs": [],
   "source": [
    "# Create DataFrame to show each listing by date and whether it was available or not\n",
    "\n",
    "investor_availability_ts = (investor_calendar.groupby(['date', 'available'], as_index=False).count()[['date','available','listing_id']]\n",
    "                            .rename({'listing_id':'count'}, axis=1))\n",
    "\n",
    "# Available = 'f' means that the listing is occupied\n",
    "investor_availability_ts =  investor_availability_ts[investor_availability_ts['available']=='f']\n",
    "\n",
    "# Divide # available per day by total # of unique listings (287) to produce the daily occupancy rate\n",
    "investor_availability_ts['occupancy_rate'] = investor_availability_ts['count']/287"
   ]
  },
  {
   "cell_type": "code",
   "execution_count": 52,
   "metadata": {},
   "outputs": [
    {
     "data": {
      "image/png": "[encoded data removed]",
      "text/plain": [
       "<Figure size 432x288 with 1 Axes>"
      ]
     },
     "metadata": {
      "needs_background": "light"
     },
     "output_type": "display_data"
    }
   ],
   "source": [
    "investor_or_host[['host_name', 'occupancy_rate']].sort_values(by='occupancy_rate', ascending=False).plot(kind='bar', legend=None)\n",
    "x = new_investor_list['host_name'].unique()\n",
    "x_pos = [i for i, _ in enumerate(x)]\n",
    "plt.xticks(x_pos, x);\n",
    "plt.xlabel('');\n",
    "plt.ylabel('Occupancy rate');\n",
    "plt.title('Occupancy rate by investor host');"
   ]
  },
  {
   "cell_type": "code",
   "execution_count": 46,
   "metadata": {},
   "outputs": [
    {
     "data": {
      "text/html": [
       "<div>\n",
       "<style scoped>\n",
       "    .dataframe tbody tr th:only-of-type {\n",
       "        vertical-align: middle;\n",
       "    }\n",
       "\n",
       "    .dataframe tbody tr th {\n",
       "        vertical-align: top;\n",
       "    }\n",
       "\n",
       "    .dataframe thead th {\n",
       "        text-align: right;\n",
       "    }\n",
       "</style>\n",
       "<table border=\"1\" class=\"dataframe\">\n",
       "  <thead>\n",
       "    <tr style=\"text-align: right;\">\n",
       "      <th></th>\n",
       "      <th>host_name</th>\n",
       "      <th>available</th>\n",
       "      <th>count</th>\n",
       "      <th>calculated_host_listings</th>\n",
       "      <th>occupancy_rate</th>\n",
       "    </tr>\n",
       "  </thead>\n",
       "  <tbody>\n",
       "    <tr>\n",
       "      <th>0</th>\n",
       "      <td>Barsala</td>\n",
       "      <td>f</td>\n",
       "      <td>8116</td>\n",
       "      <td>16790.0</td>\n",
       "      <td>0.483383</td>\n",
       "    </tr>\n",
       "    <tr>\n",
       "      <th>1</th>\n",
       "      <td>Dario</td>\n",
       "      <td>f</td>\n",
       "      <td>4218</td>\n",
       "      <td>7665.0</td>\n",
       "      <td>0.550294</td>\n",
       "    </tr>\n",
       "    <tr>\n",
       "      <th>2</th>\n",
       "      <td>Eric</td>\n",
       "      <td>f</td>\n",
       "      <td>888</td>\n",
       "      <td>5840.0</td>\n",
       "      <td>0.152055</td>\n",
       "    </tr>\n",
       "    <tr>\n",
       "      <th>3</th>\n",
       "      <td>Grokhome</td>\n",
       "      <td>f</td>\n",
       "      <td>215</td>\n",
       "      <td>13505.0</td>\n",
       "      <td>0.015920</td>\n",
       "    </tr>\n",
       "    <tr>\n",
       "      <th>4</th>\n",
       "      <td>Kenny Properties LLC</td>\n",
       "      <td>f</td>\n",
       "      <td>1588</td>\n",
       "      <td>4380.0</td>\n",
       "      <td>0.362557</td>\n",
       "    </tr>\n",
       "    <tr>\n",
       "      <th>5</th>\n",
       "      <td>Mack &amp; Sophia</td>\n",
       "      <td>f</td>\n",
       "      <td>1065</td>\n",
       "      <td>4380.0</td>\n",
       "      <td>0.243151</td>\n",
       "    </tr>\n",
       "    <tr>\n",
       "      <th>6</th>\n",
       "      <td>Melissa</td>\n",
       "      <td>f</td>\n",
       "      <td>916</td>\n",
       "      <td>12410.0</td>\n",
       "      <td>0.073811</td>\n",
       "    </tr>\n",
       "    <tr>\n",
       "      <th>7</th>\n",
       "      <td>Michael</td>\n",
       "      <td>f</td>\n",
       "      <td>315</td>\n",
       "      <td>6570.0</td>\n",
       "      <td>0.047945</td>\n",
       "    </tr>\n",
       "    <tr>\n",
       "      <th>8</th>\n",
       "      <td>Prez &amp; Cherie</td>\n",
       "      <td>f</td>\n",
       "      <td>2</td>\n",
       "      <td>4015.0</td>\n",
       "      <td>0.000498</td>\n",
       "    </tr>\n",
       "    <tr>\n",
       "      <th>9</th>\n",
       "      <td>Ren</td>\n",
       "      <td>f</td>\n",
       "      <td>524</td>\n",
       "      <td>4015.0</td>\n",
       "      <td>0.130511</td>\n",
       "    </tr>\n",
       "    <tr>\n",
       "      <th>10</th>\n",
       "      <td>Sea To Sky Rentals</td>\n",
       "      <td>f</td>\n",
       "      <td>1900</td>\n",
       "      <td>13140.0</td>\n",
       "      <td>0.144597</td>\n",
       "    </tr>\n",
       "    <tr>\n",
       "      <th>11</th>\n",
       "      <td>Seattle Oasis</td>\n",
       "      <td>f</td>\n",
       "      <td>6527</td>\n",
       "      <td>12045.0</td>\n",
       "      <td>0.541885</td>\n",
       "    </tr>\n",
       "  </tbody>\n",
       "</table>\n",
       "</div>"
      ],
      "text/plain": [
       "               host_name available  count  calculated_host_listings  \\\n",
       "0                Barsala         f   8116                   16790.0   \n",
       "1                  Dario         f   4218                    7665.0   \n",
       "2                   Eric         f    888                    5840.0   \n",
       "3               Grokhome         f    215                   13505.0   \n",
       "4   Kenny Properties LLC         f   1588                    4380.0   \n",
       "5          Mack & Sophia         f   1065                    4380.0   \n",
       "6                Melissa         f    916                   12410.0   \n",
       "7                Michael         f    315                    6570.0   \n",
       "8          Prez & Cherie         f      2                    4015.0   \n",
       "9                    Ren         f    524                    4015.0   \n",
       "10    Sea To Sky Rentals         f   1900                   13140.0   \n",
       "11         Seattle Oasis         f   6527                   12045.0   \n",
       "\n",
       "    occupancy_rate  \n",
       "0         0.483383  \n",
       "1         0.550294  \n",
       "2         0.152055  \n",
       "3         0.015920  \n",
       "4         0.362557  \n",
       "5         0.243151  \n",
       "6         0.073811  \n",
       "7         0.047945  \n",
       "8         0.000498  \n",
       "9         0.130511  \n",
       "10        0.144597  \n",
       "11        0.541885  "
      ]
     },
     "execution_count": 46,
     "metadata": {},
     "output_type": "execute_result"
    }
   ],
   "source": [
    "investor_or_host"
   ]
  },
  {
   "cell_type": "markdown",
   "metadata": {},
   "source": [
    "**Plotting investor vs. non-investor owned listing occupancy rates**"
   ]
  },
  {
   "cell_type": "code",
   "execution_count": 53,
   "metadata": {},
   "outputs": [
    {
     "data": {
      "image/png": "[encoded data removed]",
      "text/plain": [
       "<Figure size 432x288 with 1 Axes>"
      ]
     },
     "metadata": {
      "needs_background": "light"
     },
     "output_type": "display_data"
    }
   ],
   "source": [
    "import seaborn as sns\n",
    "\n",
    "boxplot_df = pd.concat([investor_availability_ts['occupancy_rate'], non_investor_availability['occupancy_rate']], axis=1)\n",
    "boxplot_df.columns = ['Property management company', 'Individual host']\n",
    "\n",
    "bp = sns.boxplot(x=\"variable\", y=\"value\", data=pd.melt(boxplot_df));\n",
    "bp.set(xlabel=\"Type of listing\", ylabel=\"Occupancy rate\");\n"
   ]
  },
  {
   "cell_type": "markdown",
   "metadata": {},
   "source": [
    "**Testing for difference in mean occupancy rates between investor and non-investor groups**"
   ]
  },
  {
   "cell_type": "code",
   "execution_count": 54,
   "metadata": {},
   "outputs": [
    {
     "name": "stdout",
     "output_type": "stream",
     "text": [
      "The t-value is -15.490 and the associated p-value is 1.9505163277129135e-45. \n",
      "We can conclude that there is a statistically significant difference between the occupancy rates of investor-hosted versus \n",
      "non-investor-hosted Airbnb listings.\n"
     ]
    }
   ],
   "source": [
    "# Because we are only dealing with two groups, we can use a t-test.\n",
    "# We will use the independent variant of the t-test since our a priori assumption is that the occupancy rates of the \n",
    "# investor and non-investor groups are independent\n",
    "\n",
    "# First, import the requisite library:\n",
    "\n",
    "from scipy.stats import ttest_ind\n",
    "\n",
    "# Set parameter equal_var=False because we cannot say whether the variances of the populations are equal to each other\n",
    "t_test_result = ttest_ind(investor_availability_ts['occupancy_rate'], non_investor_availability['occupancy_rate'], equal_var=False)\n",
    "\n",
    "t_stat = t_test_result[0]\n",
    "p_val = t_test_result[1]\n",
    "\n",
    "(print('''The t-value is {:.3f} and the associated p-value is {}. \n",
    "We can conclude that there is a statistically significant difference between the occupancy rates of investor-hosted versus \n",
    "non-investor-hosted Airbnb listings.'''.format(t_stat, p_val)))"
   ]
  }
 ],
 "metadata": {
  "kernelspec": {
   "display_name": "Python 3",
   "language": "python",
   "name": "python3"
  },
  "language_info": {
   "codemirror_mode": {
    "name": "ipython",
    "version": 3
   },
   "file_extension": ".py",
   "mimetype": "text/x-python",
   "name": "python",
   "nbconvert_exporter": "python",
   "pygments_lexer": "ipython3",
   "version": "3.8.3"
  }
 },
 "nbformat": 4,
 "nbformat_minor": 4
}
