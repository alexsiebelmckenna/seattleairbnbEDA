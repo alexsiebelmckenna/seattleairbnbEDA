{
 "cells": [
  {
   "cell_type": "markdown",
   "metadata": {},
   "source": [
    "<h1> Are property management companies worth it? </h1>"
   ]
  },
  {
   "cell_type": "markdown",
   "metadata": {},
   "source": [
    "<h2> An exploratory data analysis of Seattle Airbnb data by Alex Siebel-McKenna </h2>"
   ]
  },
  {
   "cell_type": "code",
   "execution_count": 1,
   "metadata": {},
   "outputs": [],
   "source": [
    "# Importing requisite packages\n",
    "import pandas as pd\n",
    "import numpy as np\n",
    "import matplotlib.pyplot as plt\n",
    "%matplotlib inline"
   ]
  },
  {
   "cell_type": "markdown",
   "metadata": {},
   "source": [
    "<h3> Gathering the data </h3>"
   ]
  },
  {
   "cell_type": "code",
   "execution_count": 2,
   "metadata": {},
   "outputs": [],
   "source": [
    "# Loading the listings dataset and availability calendar\n",
    "\n",
    "seattle_listings = pd.read_csv('seattle_listings.csv')\n",
    "seattle_calendar = pd.read_csv('seattle_calendar.csv')"
   ]
  },
  {
   "cell_type": "markdown",
   "metadata": {},
   "source": [
    "<h3> Assessing and cleaning the data </h3>"
   ]
  },
  {
   "cell_type": "code",
   "execution_count": 3,
   "metadata": {},
   "outputs": [],
   "source": [
    "# Rename 'id' column in seattle_listings to 'listing_id'\n",
    "\n",
    "seattle_listings.rename({'id':'listing_id'}, axis=1, inplace=True)"
   ]
  },
  {
   "cell_type": "code",
   "execution_count": 4,
   "metadata": {},
   "outputs": [],
   "source": [
    "# Merging seattle_calendar with seattle_listings[['listing_id', 'host_id']] on 'listing_id'\n",
    "\n",
    "seattle_calendar = pd.merge(seattle_calendar, seattle_listings[['listing_id', 'host_id']], on='listing_id')"
   ]
  },
  {
   "cell_type": "code",
   "execution_count": 5,
   "metadata": {},
   "outputs": [
    {
     "name": "stdout",
     "output_type": "stream",
     "text": [
      "Balanced data. All listings have 365 rows of availability.\n"
     ]
    }
   ],
   "source": [
    "# How many days of data are available for each listing? Can we confirm that there is a year's worth of data for all of them?\n",
    "\n",
    "try:\n",
    "    assert(seattle_calendar[['host_id','listing_id', 'date', 'available']].groupby('listing_id').count()['date'].unique()[0]==365)\n",
    "    print('Balanced data. All listings have 365 rows of availability.')\n",
    "except:\n",
    "    print('Unbalanced data! Not all listings have 365 rows of availability.')"
   ]
  },
  {
   "cell_type": "code",
   "execution_count": 6,
   "metadata": {},
   "outputs": [
    {
     "name": "stdout",
     "output_type": "stream",
     "text": [
      "There are no duplicate listings in seattle_listings.\n"
     ]
    }
   ],
   "source": [
    "# Make sure that values in 'id' column are unique (i.e. there are no duplicate listings)\n",
    "\n",
    "try:\n",
    "    assert(len(seattle_listings['listing_id'].unique()) == seattle_listings.shape[0])\n",
    "    print('There are no duplicate listings in seattle_listings.')\n",
    "except:\n",
    "    print('Duplicates in seattle_listings detected.')"
   ]
  },
  {
   "cell_type": "markdown",
   "metadata": {},
   "source": [
    "Renaming the hosts to company names (following links in the host_url column reveals this):"
   ]
  },
  {
   "cell_type": "code",
   "execution_count": 7,
   "metadata": {},
   "outputs": [],
   "source": [
    "# Rename the hosts using host_id (taken manually from host_url column)\n",
    "\n",
    "investor_dictionary = {8534462:'Barsala',\n",
    "                      4962900:'Stay Alfred',\n",
    "                      1243056:'Grokhome',\n",
    "                      74305:'Seattle Oasis',\n",
    "                      658155:'Kenny Properties LLC',\n",
    "                      31148752:'TurnKey',\n",
    "                      66145:'The Dexter Experience',\n",
    "                      30283594:'Global Luxury Suites',\n",
    "                      1478274:'LiveLikeItsYours'}\n",
    "\n",
    "# Change the names of hosts with IDs in the investor_dictionary, leave untouched those that aren't \n",
    "\n",
    "seattle_listings['host_name'] = seattle_listings['host_id'].map(investor_dictionary).fillna(seattle_listings['host_name'])\n",
    "\n",
    "# Merge with seattle_calendar to include host_name column\n",
    "\n",
    "seattle_calendar = pd.merge(seattle_calendar, seattle_listings[['host_id', 'host_name']], on='host_id')"
   ]
  },
  {
   "cell_type": "markdown",
   "metadata": {},
   "source": [
    "First, we want to find which hosts have greater than 10 properties:"
   ]
  },
  {
   "cell_type": "code",
   "execution_count": 8,
   "metadata": {},
   "outputs": [],
   "source": [
    "def get_count_by_host_listings_count(df, n=10): #To distinguish from getting the count by the number of rows\n",
    "    \"\"\"\n",
    "    Returns list of hosts with their listings and host_listing_count values\n",
    "    \n",
    "    Parameters:\n",
    "    df: seattle_listings\n",
    "    n (int): Threshold of host listings count (default 10)\n",
    "    \n",
    "    Returns: \n",
    "    df_count: Subset of hosts with host_listings_count values > n\n",
    "    \"\"\"\n",
    "    df_count = (df[['host_id','host_name','host_url','host_listings_count']][df['host_listings_count']>n]\n",
    "                .drop_duplicates('host_id').sort_values(by='host_listings_count', ascending=False))\n",
    "    return df_count\n",
    "\n",
    "investor_count = get_count_by_host_listings_count(df=seattle_listings)\n",
    "\n",
    "original_investor_list_id = investor_count['host_id'].unique()"
   ]
  },
  {
   "cell_type": "markdown",
   "metadata": {},
   "source": [
    "Plotting this first set of investor hosts:"
   ]
  },
  {
   "cell_type": "code",
   "execution_count": 9,
   "metadata": {},
   "outputs": [
    {
     "data": {
      "image/png": "[encoded data removed]",
      "text/plain": [
       "<Figure size 432x288 with 1 Axes>"
      ]
     },
     "metadata": {
      "needs_background": "light"
     },
     "output_type": "display_data"
    }
   ],
   "source": [
    "# Plot hosts by host_listing_count\n",
    "\n",
    "investor_count[['host_name', 'host_listings_count']].plot(kind='bar', legend=None);\n",
    "x = investor_count['host_name']\n",
    "x_pos = [i for i, _ in enumerate(x)]\n",
    "plt.xticks(x_pos, x);\n",
    "plt.xlabel('');\n",
    "plt.ylabel('Number of listings');\n",
    "plt.title('Hosts by listing count');"
   ]
  },
  {
   "cell_type": "markdown",
   "metadata": {},
   "source": [
    "But are the hosts above adequately represented in seattle_calendar? We can compute a representativeness (R-) index to find out, but first we have to clean the data a little bit more:"
   ]
  },
  {
   "cell_type": "code",
   "execution_count": 10,
   "metadata": {},
   "outputs": [],
   "source": [
    "def split_dfs(df, lst):\n",
    "    \n",
    "    \"\"\"\n",
    "    Helper function - splits datasets into separate investor and non-investor datasets.\n",
    "    \n",
    "    Parameters:\n",
    "    df: DataFrame to split (e.g. seattle_listings, seattle_calendar)\n",
    "    lst (list): list of investor names to split on \n",
    "    \n",
    "    Returns:\n",
    "    df1, df2: Separate DataFrames split on the list of investor names used\n",
    "    \n",
    "    \"\"\"\n",
    "    df1 = df[df['host_id'].isin(lst)]\n",
    "    df2 = df[~df['host_id'].isin(lst)]\n",
    "    \n",
    "    return df1, df2"
   ]
  },
  {
   "cell_type": "code",
   "execution_count": 11,
   "metadata": {},
   "outputs": [],
   "source": [
    "investor_listings, noninvestor_listings = split_dfs(df=seattle_listings, lst=original_investor_list_id)\n",
    "investor_calendar, noninvestor_calendar = split_dfs(df=seattle_calendar, lst=original_investor_list_id)"
   ]
  },
  {
   "cell_type": "code",
   "execution_count": 12,
   "metadata": {},
   "outputs": [
    {
     "name": "stdout",
     "output_type": "stream",
     "text": [
      "All listings in seattle_calendar are in either investor_calendar or noninvestor_calendar. \n",
      "There are 352 unique listings in investor_calendar, 3466 unique listings in noninvestor_calendar, giving us 3818 listings in total.\n"
     ]
    }
   ],
   "source": [
    "num_unique_investor_listings = len(investor_calendar['listing_id'].unique())\n",
    "num_unique_noninvestor_listings = len(noninvestor_calendar['listing_id'].unique())\n",
    "num_unique_total_listings = len(seattle_calendar['listing_id'].unique())\n",
    "\n",
    "try:\n",
    "    assert(len(noninvestor_calendar['listing_id'].unique()) + len(investor_calendar['listing_id'].unique()) == len(seattle_calendar['listing_id'].unique()))\n",
    "    print('All listings in seattle_calendar are in either investor_calendar or noninvestor_calendar. \\nThere are {} unique listings in investor_calendar, {} unique listings in noninvestor_calendar, giving us {} listings in total.'\n",
    "         .format(num_unique_investor_listings,num_unique_noninvestor_listings,num_unique_total_listings))\n",
    "except:\n",
    "    print('Not all listings in seattle_calendar are in either investor_calendar or noninvestor_calendar.')"
   ]
  },
  {
   "cell_type": "markdown",
   "metadata": {},
   "source": [
    "We want value counts of listings by host in investor_calendar - these will become the calculated_host_listings column:"
   ]
  },
  {
   "cell_type": "code",
   "execution_count": 13,
   "metadata": {},
   "outputs": [],
   "source": [
    "def get_count(df, lst, no_duplicates=True):\n",
    "    \"\"\"\n",
    "    Returns a dataframe containing investor host IDs and names (supplied by lst) and how many listings each has in df\n",
    "    \n",
    "    Parameters:\n",
    "    df: Availability calendar\n",
    "    lst: List of investors\n",
    "    no_duplicates: If True, then only unique values (one entry per host)\n",
    "    \n",
    "    Returns:\n",
    "    investor_count_calendar: Count of hosts by listing in seattle_calendar/investor_calendar/noninvestor_calendar\n",
    "    \n",
    "    \"\"\"\n",
    "    investor_count_calendar = df.groupby('host_id')['listing_id'].nunique().reset_index().rename({'listing_id':'calculated_host_listings'}, axis=1).sort_values(by='calculated_host_listings', ascending=False)\n",
    "    investor_count_calendar = pd.merge(investor_count_calendar, df[['host_id','host_name']], on='host_id')[['host_id', 'host_name', 'calculated_host_listings']].reset_index(drop=True)\n",
    "    \n",
    "    if no_duplicates:\n",
    "        investor_count_calendar = investor_count_calendar.drop_duplicates(['host_id']).reset_index(drop=True)\n",
    "    \n",
    "    return investor_count_calendar\n",
    "\n",
    "investor_count_calendar = get_count(df=investor_calendar, lst=original_investor_list_id)"
   ]
  },
  {
   "cell_type": "markdown",
   "metadata": {},
   "source": [
    "Next, we would like to compare the above to a similar DataFrame with the value from 'host_listings_count' (i.e. their total number of listings) to calculate each host's R-index value.\n",
    "\n",
    "R-index value = (Calculated no. of listings in seattle_calendar)/(Reported value in host_listings_count) $\\in$ [0,1]\n",
    "\n",
    "Slicing a subset of investor_listings so that we can add host_listings_count to the DataFrame created in the previous cell:"
   ]
  },
  {
   "cell_type": "code",
   "execution_count": 14,
   "metadata": {},
   "outputs": [],
   "source": [
    "investor_listings_count = investor_listings[['host_id', 'host_name', 'host_listings_count']].drop_duplicates('host_id').reset_index(drop=True)"
   ]
  },
  {
   "cell_type": "markdown",
   "metadata": {},
   "source": [
    "Merging both datasets to compare everything in the same DataFrame:"
   ]
  },
  {
   "cell_type": "code",
   "execution_count": 15,
   "metadata": {},
   "outputs": [],
   "source": [
    "merged_investor_count_calendar = pd.merge(investor_count_calendar, investor_listings_count[['host_id', 'host_listings_count']], on='host_id')"
   ]
  },
  {
   "cell_type": "markdown",
   "metadata": {},
   "source": [
    "Calculating the R-index values corresponding to each investor host"
   ]
  },
  {
   "cell_type": "code",
   "execution_count": 16,
   "metadata": {},
   "outputs": [
    {
     "data": {
      "text/html": [
       "<div>\n",
       "<style scoped>\n",
       "    .dataframe tbody tr th:only-of-type {\n",
       "        vertical-align: middle;\n",
       "    }\n",
       "\n",
       "    .dataframe tbody tr th {\n",
       "        vertical-align: top;\n",
       "    }\n",
       "\n",
       "    .dataframe thead th {\n",
       "        text-align: right;\n",
       "    }\n",
       "</style>\n",
       "<table border=\"1\" class=\"dataframe\">\n",
       "  <thead>\n",
       "    <tr style=\"text-align: right;\">\n",
       "      <th></th>\n",
       "      <th>host_id</th>\n",
       "      <th>host_name</th>\n",
       "      <th>calculated_host_listings</th>\n",
       "      <th>host_listings_count</th>\n",
       "      <th>r-index</th>\n",
       "    </tr>\n",
       "  </thead>\n",
       "  <tbody>\n",
       "    <tr>\n",
       "      <th>0</th>\n",
       "      <td>1623580</td>\n",
       "      <td>Mack &amp; Sophia</td>\n",
       "      <td>12</td>\n",
       "      <td>12.0</td>\n",
       "      <td>1.0</td>\n",
       "    </tr>\n",
       "    <tr>\n",
       "      <th>1</th>\n",
       "      <td>2911360</td>\n",
       "      <td>Ren</td>\n",
       "      <td>11</td>\n",
       "      <td>11.0</td>\n",
       "      <td>1.0</td>\n",
       "    </tr>\n",
       "    <tr>\n",
       "      <th>2</th>\n",
       "      <td>1243056</td>\n",
       "      <td>Grokhome</td>\n",
       "      <td>37</td>\n",
       "      <td>37.0</td>\n",
       "      <td>1.0</td>\n",
       "    </tr>\n",
       "    <tr>\n",
       "      <th>3</th>\n",
       "      <td>430709</td>\n",
       "      <td>Sea To Sky Rentals</td>\n",
       "      <td>36</td>\n",
       "      <td>36.0</td>\n",
       "      <td>1.0</td>\n",
       "    </tr>\n",
       "    <tr>\n",
       "      <th>4</th>\n",
       "      <td>3074414</td>\n",
       "      <td>Melissa</td>\n",
       "      <td>34</td>\n",
       "      <td>34.0</td>\n",
       "      <td>1.0</td>\n",
       "    </tr>\n",
       "  </tbody>\n",
       "</table>\n",
       "</div>"
      ],
      "text/plain": [
       "   host_id           host_name  calculated_host_listings  host_listings_count  \\\n",
       "0  1623580       Mack & Sophia                        12                 12.0   \n",
       "1  2911360                 Ren                        11                 11.0   \n",
       "2  1243056            Grokhome                        37                 37.0   \n",
       "3   430709  Sea To Sky Rentals                        36                 36.0   \n",
       "4  3074414             Melissa                        34                 34.0   \n",
       "\n",
       "   r-index  \n",
       "0      1.0  \n",
       "1      1.0  \n",
       "2      1.0  \n",
       "3      1.0  \n",
       "4      1.0  "
      ]
     },
     "execution_count": 16,
     "metadata": {},
     "output_type": "execute_result"
    }
   ],
   "source": [
    "merged_investor_count_calendar['r-index'] = merged_investor_count_calendar['calculated_host_listings']/merged_investor_count_calendar['host_listings_count']\n",
    "merged_investor_count_calendar = merged_investor_count_calendar.sort_values(by='r-index', ascending=False).reset_index(drop=True)\n",
    "merged_investor_count_calendar.head()"
   ]
  },
  {
   "cell_type": "markdown",
   "metadata": {},
   "source": [
    "Plotting r-index values by host:"
   ]
  },
  {
   "cell_type": "code",
   "execution_count": 17,
   "metadata": {},
   "outputs": [
    {
     "data": {
      "image/png": "[encoded data removed]",
      "text/plain": [
       "<Figure size 432x288 with 1 Axes>"
      ]
     },
     "metadata": {
      "needs_background": "light"
     },
     "output_type": "display_data"
    }
   ],
   "source": [
    "merged_investor_count_calendar[['host_name', 'r-index']].sort_values(by='r-index', ascending=False).plot(kind='bar', legend=None);\n",
    "x = merged_investor_count_calendar['host_name'];\n",
    "x_pos = [i for i, _ in enumerate(x)];\n",
    "plt.xticks(x_pos, x);\n",
    "plt.xlabel('');\n",
    "plt.ylabel('R-index');\n",
    "plt.title('R-index values by host');"
   ]
  },
  {
   "cell_type": "markdown",
   "metadata": {},
   "source": [
    "Notice the sharp drop in R-index values after about 0.9. It would make sense then to use this as a threshold.\n",
    "\n",
    "Collecting the new investor host IDs and reconstructing our listings datasets and availability calendars:"
   ]
  },
  {
   "cell_type": "code",
   "execution_count": 18,
   "metadata": {},
   "outputs": [],
   "source": [
    "# List object containing the listings of the new investor list, with r-index values greater than 0.90\n",
    "new_investor_list_id = merged_investor_count_calendar['host_id'][merged_investor_count_calendar['r-index']>0.9]\n",
    "\n",
    "#Re-generating the following DataFrames to reflect the new investor list\n",
    "investor_listings, noninvestor_listings = split_dfs(df=seattle_listings, lst=new_investor_list_id)\n",
    "\n",
    "investor_calendar, noninvestor_calendar = split_dfs(df=seattle_calendar, lst=new_investor_list_id)\n",
    "\n",
    "investor_count_calendar = get_count(df=investor_calendar, lst=new_investor_list_id)"
   ]
  },
  {
   "cell_type": "markdown",
   "metadata": {},
   "source": [
    "<h3>Visualization</h3>"
   ]
  },
  {
   "cell_type": "markdown",
   "metadata": {},
   "source": [
    "Plotting this new set of investors:"
   ]
  },
  {
   "cell_type": "code",
   "execution_count": 19,
   "metadata": {},
   "outputs": [
    {
     "data": {
      "image/png": "[encoded data removed]",
      "text/plain": [
       "<Figure size 432x288 with 1 Axes>"
      ]
     },
     "metadata": {
      "needs_background": "light"
     },
     "output_type": "display_data"
    }
   ],
   "source": [
    "(investor_listings[['host_name', 'host_listings_count']]).drop_duplicates('host_name').sort_values(by='host_listings_count', ascending=False).plot(kind='bar', legend=None);\n",
    "x = investor_listings['host_name'].unique()\n",
    "x_pos = [i for i, _ in enumerate(x)]\n",
    "plt.xticks(x_pos, x);\n",
    "plt.xlabel('');\n",
    "plt.ylabel('Number of listings');\n",
    "plt.title('Hosts by listing count (R-index>0.9)');"
   ]
  },
  {
   "cell_type": "markdown",
   "metadata": {},
   "source": [
    "<h1>Occupancy</h1>"
   ]
  },
  {
   "cell_type": "markdown",
   "metadata": {},
   "source": [
    "**Calculating occupancy rates using the availability calendar**"
   ]
  },
  {
   "cell_type": "markdown",
   "metadata": {},
   "source": [
    "The availability_30 feature gives us a snapshot into a unit's availability, being the number of days in the next 30 days for which the unit is available:"
   ]
  },
  {
   "cell_type": "code",
   "execution_count": 20,
   "metadata": {},
   "outputs": [
    {
     "data": {
      "text/html": [
       "<div>\n",
       "<style scoped>\n",
       "    .dataframe tbody tr th:only-of-type {\n",
       "        vertical-align: middle;\n",
       "    }\n",
       "\n",
       "    .dataframe tbody tr th {\n",
       "        vertical-align: top;\n",
       "    }\n",
       "\n",
       "    .dataframe thead th {\n",
       "        text-align: right;\n",
       "    }\n",
       "</style>\n",
       "<table border=\"1\" class=\"dataframe\">\n",
       "  <thead>\n",
       "    <tr style=\"text-align: right;\">\n",
       "      <th></th>\n",
       "      <th>host_id</th>\n",
       "      <th>host_name</th>\n",
       "      <th>listing_id</th>\n",
       "      <th>availability_30</th>\n",
       "    </tr>\n",
       "  </thead>\n",
       "  <tbody>\n",
       "    <tr>\n",
       "      <th>97</th>\n",
       "      <td>430709</td>\n",
       "      <td>Sea To Sky Rentals</td>\n",
       "      <td>4395578</td>\n",
       "      <td>21</td>\n",
       "    </tr>\n",
       "    <tr>\n",
       "      <th>231</th>\n",
       "      <td>430709</td>\n",
       "      <td>Sea To Sky Rentals</td>\n",
       "      <td>5848400</td>\n",
       "      <td>19</td>\n",
       "    </tr>\n",
       "    <tr>\n",
       "      <th>315</th>\n",
       "      <td>1243056</td>\n",
       "      <td>Grokhome</td>\n",
       "      <td>7258811</td>\n",
       "      <td>30</td>\n",
       "    </tr>\n",
       "    <tr>\n",
       "      <th>332</th>\n",
       "      <td>1243056</td>\n",
       "      <td>Grokhome</td>\n",
       "      <td>3404557</td>\n",
       "      <td>29</td>\n",
       "    </tr>\n",
       "    <tr>\n",
       "      <th>333</th>\n",
       "      <td>1243056</td>\n",
       "      <td>Grokhome</td>\n",
       "      <td>3939683</td>\n",
       "      <td>29</td>\n",
       "    </tr>\n",
       "  </tbody>\n",
       "</table>\n",
       "</div>"
      ],
      "text/plain": [
       "     host_id           host_name  listing_id  availability_30\n",
       "97    430709  Sea To Sky Rentals     4395578               21\n",
       "231   430709  Sea To Sky Rentals     5848400               19\n",
       "315  1243056            Grokhome     7258811               30\n",
       "332  1243056            Grokhome     3404557               29\n",
       "333  1243056            Grokhome     3939683               29"
      ]
     },
     "execution_count": 20,
     "metadata": {},
     "output_type": "execute_result"
    }
   ],
   "source": [
    "investor_listings[['host_id', 'host_name', 'listing_id', 'availability_30']].head()"
   ]
  },
  {
   "cell_type": "markdown",
   "metadata": {},
   "source": [
    "But if we really want to dig deep we should look at the availability calendars.\n",
    "\n",
    "To calculate a unit's occupancy rate we will use the number of days that unit is available over the course of 2016, as reflected in the availability calendars.\n",
    "\n",
    "(Later on we will calculate occupancy rate for investor and non-investor groups over a time series (that is, daily occupancy rates), for which the methodology is slightly different but we'll get to that in a minute)\n",
    "\n",
    "Because we are first going to be calculating occupancy rates by host, we need to make sure that we are using the correct denominator (i.e. total number of listings in investor_calendar) in our calculations. These are the same as the calculated_host_listings calculated earlier. Note that in some cases calculated_host_listings != host_listings_count."
   ]
  },
  {
   "cell_type": "code",
   "execution_count": 21,
   "metadata": {},
   "outputs": [
    {
     "data": {
      "text/html": [
       "<div>\n",
       "<style scoped>\n",
       "    .dataframe tbody tr th:only-of-type {\n",
       "        vertical-align: middle;\n",
       "    }\n",
       "\n",
       "    .dataframe tbody tr th {\n",
       "        vertical-align: top;\n",
       "    }\n",
       "\n",
       "    .dataframe thead th {\n",
       "        text-align: right;\n",
       "    }\n",
       "</style>\n",
       "<table border=\"1\" class=\"dataframe\">\n",
       "  <thead>\n",
       "    <tr style=\"text-align: right;\">\n",
       "      <th></th>\n",
       "      <th>host_id</th>\n",
       "      <th>host_name</th>\n",
       "      <th>calculated_host_listings</th>\n",
       "      <th>host_listings_count</th>\n",
       "    </tr>\n",
       "  </thead>\n",
       "  <tbody>\n",
       "    <tr>\n",
       "      <th>0</th>\n",
       "      <td>8534462</td>\n",
       "      <td>Barsala</td>\n",
       "      <td>46</td>\n",
       "      <td>48.0</td>\n",
       "    </tr>\n",
       "    <tr>\n",
       "      <th>1</th>\n",
       "      <td>1243056</td>\n",
       "      <td>Grokhome</td>\n",
       "      <td>37</td>\n",
       "      <td>37.0</td>\n",
       "    </tr>\n",
       "    <tr>\n",
       "      <th>2</th>\n",
       "      <td>430709</td>\n",
       "      <td>Sea To Sky Rentals</td>\n",
       "      <td>36</td>\n",
       "      <td>36.0</td>\n",
       "    </tr>\n",
       "    <tr>\n",
       "      <th>3</th>\n",
       "      <td>3074414</td>\n",
       "      <td>Melissa</td>\n",
       "      <td>34</td>\n",
       "      <td>34.0</td>\n",
       "    </tr>\n",
       "    <tr>\n",
       "      <th>4</th>\n",
       "      <td>74305</td>\n",
       "      <td>Seattle Oasis</td>\n",
       "      <td>33</td>\n",
       "      <td>34.0</td>\n",
       "    </tr>\n",
       "    <tr>\n",
       "      <th>5</th>\n",
       "      <td>26967583</td>\n",
       "      <td>Dario</td>\n",
       "      <td>21</td>\n",
       "      <td>21.0</td>\n",
       "    </tr>\n",
       "    <tr>\n",
       "      <th>6</th>\n",
       "      <td>7354306</td>\n",
       "      <td>Michael</td>\n",
       "      <td>18</td>\n",
       "      <td>18.0</td>\n",
       "    </tr>\n",
       "    <tr>\n",
       "      <th>7</th>\n",
       "      <td>42537846</td>\n",
       "      <td>Eric</td>\n",
       "      <td>16</td>\n",
       "      <td>17.0</td>\n",
       "    </tr>\n",
       "    <tr>\n",
       "      <th>8</th>\n",
       "      <td>658155</td>\n",
       "      <td>Kenny Properties LLC</td>\n",
       "      <td>12</td>\n",
       "      <td>13.0</td>\n",
       "    </tr>\n",
       "    <tr>\n",
       "      <th>9</th>\n",
       "      <td>1623580</td>\n",
       "      <td>Mack &amp; Sophia</td>\n",
       "      <td>12</td>\n",
       "      <td>12.0</td>\n",
       "    </tr>\n",
       "    <tr>\n",
       "      <th>10</th>\n",
       "      <td>862329</td>\n",
       "      <td>Prez &amp; Cherie</td>\n",
       "      <td>11</td>\n",
       "      <td>11.0</td>\n",
       "    </tr>\n",
       "    <tr>\n",
       "      <th>11</th>\n",
       "      <td>2911360</td>\n",
       "      <td>Ren</td>\n",
       "      <td>11</td>\n",
       "      <td>11.0</td>\n",
       "    </tr>\n",
       "  </tbody>\n",
       "</table>\n",
       "</div>"
      ],
      "text/plain": [
       "     host_id             host_name  calculated_host_listings  \\\n",
       "0    8534462               Barsala                        46   \n",
       "1    1243056              Grokhome                        37   \n",
       "2     430709    Sea To Sky Rentals                        36   \n",
       "3    3074414               Melissa                        34   \n",
       "4      74305         Seattle Oasis                        33   \n",
       "5   26967583                 Dario                        21   \n",
       "6    7354306               Michael                        18   \n",
       "7   42537846                  Eric                        16   \n",
       "8     658155  Kenny Properties LLC                        12   \n",
       "9    1623580         Mack & Sophia                        12   \n",
       "10    862329         Prez & Cherie                        11   \n",
       "11   2911360                   Ren                        11   \n",
       "\n",
       "    host_listings_count  \n",
       "0                  48.0  \n",
       "1                  37.0  \n",
       "2                  36.0  \n",
       "3                  34.0  \n",
       "4                  34.0  \n",
       "5                  21.0  \n",
       "6                  18.0  \n",
       "7                  17.0  \n",
       "8                  13.0  \n",
       "9                  12.0  \n",
       "10                 11.0  \n",
       "11                 11.0  "
      ]
     },
     "execution_count": 21,
     "metadata": {},
     "output_type": "execute_result"
    }
   ],
   "source": [
    "new_investor_count_calendar = pd.merge(investor_count_calendar, investor_listings[['host_id', 'host_listings_count']], on='host_id').drop_duplicates('host_id').reset_index(drop=True)\n",
    "new_investor_count_calendar"
   ]
  },
  {
   "cell_type": "code",
   "execution_count": 22,
   "metadata": {},
   "outputs": [],
   "source": [
    "# Merge with investor calendar\n",
    "investor_calendar = pd.merge(investor_calendar, new_investor_count_calendar[['host_id', 'host_listings_count', 'calculated_host_listings']])"
   ]
  },
  {
   "cell_type": "code",
   "execution_count": 23,
   "metadata": {},
   "outputs": [
    {
     "name": "stdout",
     "output_type": "stream",
     "text": [
      "There are 1315825 (out of 3130605) rows where calculated_host_listings is not equal to host_listings_count - 42.03% of entries in investor_calendar!\n"
     ]
    }
   ],
   "source": [
    "# Need the number of listings each host has in investor_calendar (which may != host_listings_count) to calculate occupancy rates:\n",
    "\n",
    "num_not_eq = sum(investor_calendar['host_listings_count'].astype(int) != investor_calendar['calculated_host_listings'])\n",
    "print(\"There are {} (out of {}) rows where calculated_host_listings is not equal to host_listings_count - {:.2f}% of entries in investor_calendar!\"\n",
    "      .format(num_not_eq, investor_calendar.shape[0], num_not_eq/investor_calendar.shape[0]*100))\n"
   ]
  },
  {
   "cell_type": "markdown",
   "metadata": {},
   "source": [
    "**Creating investor availability dataset by host**"
   ]
  },
  {
   "cell_type": "markdown",
   "metadata": {},
   "source": [
    "A function to generate occupancy rates by host, which we will apply to the entire seattle_calendar and use our split_dfs function to separate it into investor and non-investor groups."
   ]
  },
  {
   "cell_type": "code",
   "execution_count": 24,
   "metadata": {},
   "outputs": [],
   "source": [
    "def calculate_occupancyrate_by_host(df, lst):\n",
    "    \"\"\"\n",
    "    Calculates occupancy rates by host\n",
    "    \n",
    "    Parameters:\n",
    "    df: Availability calendar\n",
    "    lst: List of investors\n",
    "    \n",
    "    Returns: \n",
    "    investor_availability, noninvestor_availability : list of occupancy rates by host \n",
    "\n",
    "    \"\"\"\n",
    "    availability = (df[['host_id','host_name','available','listing_id']].groupby(['host_name', 'host_id', 'available'], as_index=False).count()[['host_id','host_name','available','listing_id']]\n",
    "                    .rename({'listing_id':'count'}, axis=1))\n",
    "    \n",
    "    sum_availability = availability.groupby(['host_id'])['count'].sum().reset_index().rename({'count':'count_f'}, axis=1)\n",
    "\n",
    "    availability = pd.merge(availability[availability['available']=='f'], sum_availability, on=['host_id'])\n",
    "\n",
    "    availability['occupancy_rate'] = availability['count']/availability['count_f']\n",
    "    \n",
    "    investor_availability, noninvestor_availability = split_dfs(availability, lst)\n",
    "\n",
    "    return investor_availability, noninvestor_availability\n",
    "\n",
    "investor_availability, noninvestor_availability = calculate_occupancyrate_by_host(df=seattle_calendar, lst=new_investor_list_id)"
   ]
  },
  {
   "cell_type": "code",
   "execution_count": 25,
   "metadata": {},
   "outputs": [
    {
     "name": "stdout",
     "output_type": "stream",
     "text": [
      "The mean occupancy rate in 2016 for investor-hosted listings was 0.23% \n",
      "The mean occupancy rate in 2016 for non-investor-hosted listings was 0.42% \n"
     ]
    }
   ],
   "source": [
    "investor_availability_mean_val = investor_availability['occupancy_rate'].mean()\n",
    "non_investor_availability_mean_val = noninvestor_availability['occupancy_rate'].mean()\n",
    "\n",
    "print('The mean occupancy rate in 2016 for investor-hosted listings was {:.2f}% '.format(investor_availability_mean_val))\n",
    "print('The mean occupancy rate in 2016 for non-investor-hosted listings was {:.2f}% '.format(non_investor_availability_mean_val))"
   ]
  },
  {
   "cell_type": "code",
   "execution_count": 26,
   "metadata": {},
   "outputs": [
    {
     "data": {
      "image/png": "[encoded data removed]",
      "text/plain": [
       "<Figure size 432x288 with 1 Axes>"
      ]
     },
     "metadata": {
      "needs_background": "light"
     },
     "output_type": "display_data"
    }
   ],
   "source": [
    "investor_availability[['host_name', 'occupancy_rate']].sort_values(by='occupancy_rate', ascending=False).plot(kind='bar', legend=None)\n",
    "x = investor_availability['host_name'].unique()\n",
    "x_pos = [i for i, _ in enumerate(x)]\n",
    "plt.xticks(x_pos, x);\n",
    "plt.xlabel('');\n",
    "plt.ylabel('Occupancy rate');\n",
    "plt.title('Occupancy rate by investor host');"
   ]
  },
  {
   "cell_type": "markdown",
   "metadata": {},
   "source": [
    "<h3>Model</h3>"
   ]
  },
  {
   "cell_type": "markdown",
   "metadata": {},
   "source": [
    "**Plotting investor vs. non-investor owned listing occupancy rates**"
   ]
  },
  {
   "cell_type": "code",
   "execution_count": 27,
   "metadata": {},
   "outputs": [
    {
     "data": {
      "image/png": "[encoded data removed]",
      "text/plain": [
       "<Figure size 432x288 with 1 Axes>"
      ]
     },
     "metadata": {
      "needs_background": "light"
     },
     "output_type": "display_data"
    }
   ],
   "source": [
    "import seaborn as sns\n",
    "\n",
    "boxplot_df = pd.concat([investor_availability['occupancy_rate'], noninvestor_availability['occupancy_rate']], axis=1)\n",
    "boxplot_df.columns = ['Property management company', 'Individual host']\n",
    "\n",
    "bp = sns.boxplot(x=\"variable\", y=\"value\", data=pd.melt(boxplot_df));\n",
    "bp.set(xlabel=\"Type of listing\", ylabel=\"Occupancy rate\");\n"
   ]
  },
  {
   "cell_type": "markdown",
   "metadata": {},
   "source": [
    "<h3>Evaluation</h3>"
   ]
  },
  {
   "cell_type": "markdown",
   "metadata": {},
   "source": [
    "**Testing for difference in mean occupancy rates between investor and non-investor groups**"
   ]
  },
  {
   "cell_type": "code",
   "execution_count": 28,
   "metadata": {},
   "outputs": [
    {
     "name": "stdout",
     "output_type": "stream",
     "text": [
      "\n",
      "\n",
      "Null hypothesis\n",
      "\n",
      "H0: Investor mean occupancy rate = Non-investor mean occupancy rate\n",
      "\n",
      "Alternative hypothesis\n",
      "\n",
      "H1: Investor mean occupancy rate < Non-investor mean occupancy rate\n",
      "\n",
      "Degrees of freedom: 2336\n",
      "Confidence level: 99.0%\n",
      "Critical t-value: 2.328\n",
      "\n",
      "The t-value is -3.127 and the associated p-value is 0.009. A one-sided t-test gives a p-value of p_val/2, or 0.005.\n",
      "As the absolute value of the t-statistic is greater than the critical t-value 2.328, we reject the null hypothesis in favor of the alternative hypothesis.\n",
      "We can conclude that there is a statistically significant, positive, difference between the occupancy rates of noninvestor-hosted versus \n",
      "investor-hosted Airbnb listings. Over the course of 2016, our data tells us that noninvestor-hosted listings have consistently better occupancy rates\n",
      "than investor-hosted listings, by 19 percentage points on average.\n"
     ]
    }
   ],
   "source": [
    "# Because we are only dealing with two groups, we can use a t-test.\n",
    "# We will use the independent variant of the t-test since our a priori assumption is that the occupancy rates of the \n",
    "# investor and non-investor groups are independent\n",
    "\n",
    "# First, import the requisite library/module:\n",
    "\n",
    "from scipy.stats import t, ttest_ind\n",
    "\n",
    "# Set parameter equal_var=False because the groups don't have equal variance (from boxplot)\n",
    "t_test_result = ttest_ind(investor_availability['occupancy_rate'], noninvestor_availability['occupancy_rate'], equal_var=False)\n",
    "\n",
    "# Retrieve the degrees of freedom:\n",
    "dof = len(investor_availability['occupancy_rate']) + len(noninvestor_availability['occupancy_rate']) - 2\n",
    "\n",
    "# Desired confidence level:\n",
    "p = 0.99\n",
    "\n",
    "# Critical t value:\n",
    "t_crit = t.ppf(p, dof)\n",
    "\n",
    "print('''\n",
    "\n",
    "Null hypothesis\n",
    "\n",
    "H0: Investor mean occupancy rate = Non-investor mean occupancy rate\n",
    "\n",
    "Alternative hypothesis\n",
    "\n",
    "H1: Investor mean occupancy rate < Non-investor mean occupancy rate\n",
    "\n",
    "Degrees of freedom: {}\n",
    "Confidence level: {}%\n",
    "Critical t-value: {:.3f}\n",
    "'''.format(dof, p*100, t_crit))\n",
    "\n",
    "t_stat = t_test_result[0]\n",
    "p_val = t_test_result[1]\n",
    "\n",
    "(print('''The t-value is {:.3f} and the associated p-value is {:.3f}. A one-sided t-test gives a p-value of p_val/2, or {:.3f}.\n",
    "As the absolute value of the t-statistic is greater than the critical t-value {:.3f}, we reject the null hypothesis in favor of the alternative hypothesis.\n",
    "We can conclude that there is a statistically significant, positive, difference between the occupancy rates of noninvestor-hosted versus \n",
    "investor-hosted Airbnb listings. Over the course of 2016, our data tells us that noninvestor-hosted listings have consistently better occupancy rates\n",
    "than investor-hosted listings, by 19 percentage points on average.'''.format(t_stat, p_val, p_val/2, t_crit)))"
   ]
  }
 ],
 "metadata": {
  "kernelspec": {
   "display_name": "Python 3",
   "language": "python",
   "name": "python3"
  },
  "language_info": {
   "codemirror_mode": {
    "name": "ipython",
    "version": 3
   },
   "file_extension": ".py",
   "mimetype": "text/x-python",
   "name": "python",
   "nbconvert_exporter": "python",
   "pygments_lexer": "ipython3",
   "version": "3.8.3"
  }
 },
 "nbformat": 4,
 "nbformat_minor": 4
}
